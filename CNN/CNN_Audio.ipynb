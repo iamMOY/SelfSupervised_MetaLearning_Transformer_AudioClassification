{
 "cells": [
  {
   "cell_type": "code",
   "execution_count": 25,
   "id": "79882782-fcaf-48be-8a41-6b054655ae3c",
   "metadata": {},
   "outputs": [],
   "source": [
    "!test ! -f \"master.zip\" && wget \"https://github.com/karoldvl/ESC-50/archive/master.zip\"\n"
   ]
  },
  {
   "cell_type": "code",
   "execution_count": 30,
   "id": "5baa2d5b-6faf-43c0-a614-5759b091a16d",
   "metadata": {},
   "outputs": [
    {
     "name": "stderr",
     "output_type": "stream",
     "text": [
      "Exception ignored in: <function _releaseLock at 0x2b99c40c2550>\n",
      "Traceback (most recent call last):\n",
      "  File \"/shared/centos7/anaconda3/2021.05/lib/python3.8/logging/__init__.py\", line 223, in _releaseLock\n",
      "    def _releaseLock():\n",
      "KeyboardInterrupt: \n"
     ]
    },
    {
     "name": "stdout",
     "output_type": "stream",
     "text": [
      "replace ESC-50-master/.circleci/config.yml? [y]es, [n]o, [A]ll, [N]one, [r]ename: ^C\n"
     ]
    }
   ],
   "source": [
    "!unzip -qq master.zip\n"
   ]
  },
  {
   "cell_type": "code",
   "execution_count": 1,
   "id": "9efbd75e-db57-407f-8486-63e8bc6cf1b3",
   "metadata": {},
   "outputs": [
    {
     "name": "stdout",
     "output_type": "stream",
     "text": [
      "1-137-A-32.wav\t\t crime_dt.shp\t\t\t ondemand\n",
      "=1.4\t\t\t CrissCross\t\t\t PA2\n",
      "celeba\t\t\t Data\t\t\t\t pa3\n",
      "celeba.zip\t\t dj_baseline.ipynb\t\t pa3.zip\n",
      "celeba.zip.1\t\t ESC-50\t\t\t\t Photo-Judge\n",
      "celeba.zip.2\t\t ESC-50-master\t\t\t ProtoNet.ipynb\n",
      "celeba.zip.3\t\t gans_adversarial_attacks.ipynb  ssast\n",
      "cifar-100-python\t __MACOSX\t\t\t Untitled.ipynb\n",
      "cifar-100-python.tar.gz  main.py\n",
      "CNN_Audio.ipynb\t\t master.zip\n"
     ]
    }
   ],
   "source": [
    "!ls"
   ]
  },
  {
   "cell_type": "code",
   "execution_count": 2,
   "id": "b6286375-2051-48a7-99ed-70b51684ac0e",
   "metadata": {},
   "outputs": [
    {
     "name": "stdout",
     "output_type": "stream",
     "text": [
      "/home/singh.aditya2/ESC-50-master\n"
     ]
    }
   ],
   "source": [
    "%cd ESC-50-master\n"
   ]
  },
  {
   "cell_type": "code",
   "execution_count": 5,
   "id": "432bc72b-b538-4dfe-8b11-5b0b2fd97d81",
   "metadata": {},
   "outputs": [
    {
     "name": "stdout",
     "output_type": "stream",
     "text": [
      "audio\t   ESC-50-master  LICENSE     meta\t  README.md\t    tests\n",
      "esc50.gif  iris.onnx\t  master.zip  pytest.ini  requirements.txt\n"
     ]
    }
   ],
   "source": [
    "!ls"
   ]
  },
  {
   "cell_type": "code",
   "execution_count": 6,
   "id": "a3d97d45-574e-4420-853d-ff5791e95e44",
   "metadata": {},
   "outputs": [],
   "source": [
    "import pandas as pd\n",
    "import librosa\n",
    "import numpy as np\n",
    "import matplotlib.pyplot as plt\n",
    "import librosa.display\n",
    "import torch\n",
    "import torch.nn as nn\n",
    "import torch.nn.functional as F\n",
    "import torch.optim as optim\n",
    "from torch.utils.data import Dataset, DataLoader\n",
    "from tqdm import tqdm_notebook as tqdm\n",
    "import os\n",
    "import random\n",
    "import wandb\n",
    "from torchvision.models.feature_extraction import get_graph_node_names\n",
    "from torchvision.models.feature_extraction import create_feature_extractor\n",
    "from torchvision.models.detection.mask_rcnn import MaskRCNN\n",
    "from torchvision.models.detection.backbone_utils import LastLevelMaxPool\n",
    "from torchvision.ops.feature_pyramid_network import FeaturePyramidNetwork"
   ]
  },
  {
   "cell_type": "code",
   "execution_count": 7,
   "id": "e07d067c-abf5-456e-9f9b-f42aded6729b",
   "metadata": {},
   "outputs": [],
   "source": [
    "df = pd.read_csv('meta/esc50.csv')\n"
   ]
  },
  {
   "cell_type": "code",
   "execution_count": 8,
   "id": "166a1692-dd5f-4cc4-9ea9-efeef31bce11",
   "metadata": {},
   "outputs": [
    {
     "data": {
      "text/html": [
       "<div>\n",
       "<style scoped>\n",
       "    .dataframe tbody tr th:only-of-type {\n",
       "        vertical-align: middle;\n",
       "    }\n",
       "\n",
       "    .dataframe tbody tr th {\n",
       "        vertical-align: top;\n",
       "    }\n",
       "\n",
       "    .dataframe thead th {\n",
       "        text-align: right;\n",
       "    }\n",
       "</style>\n",
       "<table border=\"1\" class=\"dataframe\">\n",
       "  <thead>\n",
       "    <tr style=\"text-align: right;\">\n",
       "      <th></th>\n",
       "      <th>filename</th>\n",
       "      <th>fold</th>\n",
       "      <th>target</th>\n",
       "      <th>category</th>\n",
       "      <th>esc10</th>\n",
       "      <th>src_file</th>\n",
       "      <th>take</th>\n",
       "    </tr>\n",
       "  </thead>\n",
       "  <tbody>\n",
       "    <tr>\n",
       "      <th>0</th>\n",
       "      <td>1-100032-A-0.wav</td>\n",
       "      <td>1</td>\n",
       "      <td>0</td>\n",
       "      <td>dog</td>\n",
       "      <td>True</td>\n",
       "      <td>100032</td>\n",
       "      <td>A</td>\n",
       "    </tr>\n",
       "    <tr>\n",
       "      <th>1</th>\n",
       "      <td>1-100038-A-14.wav</td>\n",
       "      <td>1</td>\n",
       "      <td>14</td>\n",
       "      <td>chirping_birds</td>\n",
       "      <td>False</td>\n",
       "      <td>100038</td>\n",
       "      <td>A</td>\n",
       "    </tr>\n",
       "    <tr>\n",
       "      <th>2</th>\n",
       "      <td>1-100210-A-36.wav</td>\n",
       "      <td>1</td>\n",
       "      <td>36</td>\n",
       "      <td>vacuum_cleaner</td>\n",
       "      <td>False</td>\n",
       "      <td>100210</td>\n",
       "      <td>A</td>\n",
       "    </tr>\n",
       "    <tr>\n",
       "      <th>3</th>\n",
       "      <td>1-100210-B-36.wav</td>\n",
       "      <td>1</td>\n",
       "      <td>36</td>\n",
       "      <td>vacuum_cleaner</td>\n",
       "      <td>False</td>\n",
       "      <td>100210</td>\n",
       "      <td>B</td>\n",
       "    </tr>\n",
       "    <tr>\n",
       "      <th>4</th>\n",
       "      <td>1-101296-A-19.wav</td>\n",
       "      <td>1</td>\n",
       "      <td>19</td>\n",
       "      <td>thunderstorm</td>\n",
       "      <td>False</td>\n",
       "      <td>101296</td>\n",
       "      <td>A</td>\n",
       "    </tr>\n",
       "  </tbody>\n",
       "</table>\n",
       "</div>"
      ],
      "text/plain": [
       "            filename  fold  target        category  esc10  src_file take\n",
       "0   1-100032-A-0.wav     1       0             dog   True    100032    A\n",
       "1  1-100038-A-14.wav     1      14  chirping_birds  False    100038    A\n",
       "2  1-100210-A-36.wav     1      36  vacuum_cleaner  False    100210    A\n",
       "3  1-100210-B-36.wav     1      36  vacuum_cleaner  False    100210    B\n",
       "4  1-101296-A-19.wav     1      19    thunderstorm  False    101296    A"
      ]
     },
     "execution_count": 8,
     "metadata": {},
     "output_type": "execute_result"
    }
   ],
   "source": [
    "df.head()\n"
   ]
  },
  {
   "cell_type": "code",
   "execution_count": 9,
   "id": "5a0da88d-8586-478a-9620-964dc9cede23",
   "metadata": {},
   "outputs": [],
   "source": [
    "train = df[df['fold']!=5]\n",
    "valid = df[df['fold']==5]"
   ]
  },
  {
   "cell_type": "code",
   "execution_count": 10,
   "id": "41d976e0-29f0-4fa1-9d7e-c99c3a364fbd",
   "metadata": {},
   "outputs": [
    {
     "name": "stdout",
     "output_type": "stream",
     "text": [
      "Sampling rate of the audio is 16000 and length of the audio is 5.0 seconds\n"
     ]
    }
   ],
   "source": [
    "wav, sr = librosa.load('audio/1-100032-A-0.wav', sr=16000)\n",
    "print(f'Sampling rate of the audio is {sr} and length of the audio is {len(wav)/sr} seconds')"
   ]
  },
  {
   "cell_type": "code",
   "execution_count": 11,
   "id": "27f0c7a7-f33e-4dbe-9428-cafe37063e5a",
   "metadata": {},
   "outputs": [],
   "source": [
    "def spec_to_image(spec, eps=1e-6):\n",
    "    mean = spec.mean()\n",
    "    std = spec.std()\n",
    "    spec_norm = (spec - mean) / (std + eps)\n",
    "    spec_min, spec_max = spec_norm.min(), spec_norm.max()\n",
    "    spec_scaled = 255 * (spec_norm - spec_min) / (spec_max - spec_min)\n",
    "    spec_scaled = spec_scaled.astype(np.uint8)\n",
    "    return spec_scaled"
   ]
  },
  {
   "cell_type": "code",
   "execution_count": 12,
   "id": "75b92e30-881e-4790-801c-6cac90f4231f",
   "metadata": {},
   "outputs": [],
   "source": [
    "def get_melspectrogram_db(file_path, sr=None, n_fft=1024, hop_length=512, n_mels=128, fmin=20, fmax=8300, top_db=80):\n",
    "    wav,sr = librosa.load(file_path,sr=sr)\n",
    "    if wav.shape[0]<5*sr:\n",
    "        wav=np.pad(wav,int(np.ceil((5*sr-wav.shape[0])/2)),mode='reflect')\n",
    "    else:\n",
    "        wav=wav[:5*sr]\n",
    "    spec=librosa.feature.melspectrogram(y=wav, sr=sr, n_fft=n_fft,\n",
    "              hop_length=hop_length,n_mels=n_mels,fmin=fmin,fmax=fmax)\n",
    "    spec_db=librosa.power_to_db(spec,top_db=top_db)\n",
    "    return spec_db"
   ]
  },
  {
   "cell_type": "code",
   "execution_count": 13,
   "id": "18fa591c-f6aa-4825-b336-806220e4c415",
   "metadata": {},
   "outputs": [],
   "source": [
    "class ESC50Data(Dataset):\n",
    "    def __init__(self, base, df, in_col, out_col):\n",
    "        self.df = df\n",
    "        self.data = []\n",
    "        self.labels = []\n",
    "        self.c2i={}\n",
    "        self.i2c={}\n",
    "        self.categories = sorted(df[out_col].unique())\n",
    "        for i, category in enumerate(self.categories):\n",
    "            self.c2i[category]=i\n",
    "            self.i2c[i]=category\n",
    "        for ind in tqdm(range(len(df))):\n",
    "            row = df.iloc[ind]\n",
    "            file_path = os.path.join(base,row[in_col])\n",
    "            self.data.append(spec_to_image(get_melspectrogram_db(file_path))[np.newaxis,...])\n",
    "            self.labels.append(self.c2i[row['category']])\n",
    "    def __len__(self):\n",
    "        return len(self.data)\n",
    "    def __getitem__(self, idx):\n",
    "        return self.data[idx], self.labels[idx]"
   ]
  },
  {
   "cell_type": "code",
   "execution_count": 14,
   "id": "8bef4398-9d4f-45c1-bd96-a7f21c54da46",
   "metadata": {},
   "outputs": [],
   "source": [
    "class ESC50Model(nn.Module):\n",
    "    def __init__(self, input_shape, batch_size=16, num_cats=50):\n",
    "        super().__init__()\n",
    "        self.conv1 = nn.Conv2d(1, 32, kernel_size = 3, stride=1, padding=1)\n",
    "        self.bn1 = nn.BatchNorm2d(32)\n",
    "        self.conv2 = nn.Conv2d(32, 32, kernel_size = 3, stride=1, padding=1)\n",
    "        self.bn2 = nn.BatchNorm2d(32)\n",
    "        self.conv3 = nn.Conv2d(32, 64, kernel_size=3, stride=1, padding=1)\n",
    "        self.bn3 = nn.BatchNorm2d(64)\n",
    "        self.conv4 = nn.Conv2d(64, 64, kernel_size=3, stride=1, padding=1)\n",
    "        self.bn4 = nn.BatchNorm2d(64)\n",
    "        self.conv5 = nn.Conv2d(64, 128, kernel_size=3, stride=1, padding=1)\n",
    "        self.bn5 = nn.BatchNorm2d(128)\n",
    "        self.conv6 = nn.Conv2d(128, 128, kernel_size=3, stride=1, padding=1)\n",
    "        self.bn6 = nn.BatchNorm2d(128)\n",
    "        self.conv7 = nn.Conv2d(128, 256, kernel_size=3, stride=1, padding=1)\n",
    "        self.bn7 = nn.BatchNorm2d(256)\n",
    "        self.conv8 = nn.Conv2d(256, 256, kernel_size=3, stride=1, padding=1)\n",
    "        self.bn8 = nn.BatchNorm2d(256)\n",
    "        self.dense1 = nn.Linear(256*(((input_shape[1]//2)//2)//2)*(((input_shape[2]//2)//2)//2),500)\n",
    "        self.dropout = nn.Dropout(0.5)\n",
    "        self.dense2 = nn.Linear(500, num_cats)\n",
    "    def forward(self, x):\n",
    "        x = self.conv1(x)\n",
    "        x = F.relu(self.bn1(x))\n",
    "        x = self.conv2(x)\n",
    "        x = F.relu(self.bn2(x))\n",
    "        x = F.max_pool2d(x, kernel_size=2) \n",
    "        x = self.conv3(x)\n",
    "        x = F.relu(self.bn3(x))\n",
    "        x = self.conv4(x)\n",
    "        x = F.relu(self.bn4(x))\n",
    "        x = F.max_pool2d(x, kernel_size=2)\n",
    "        x = self.conv5(x)\n",
    "        x = F.relu(self.bn5(x))\n",
    "        x = self.conv6(x)\n",
    "        x = F.relu(self.bn6(x))\n",
    "        x = F.max_pool2d(x, kernel_size=2)\n",
    "        x = self.conv7(x)\n",
    "        x = F.relu(self.bn7(x))\n",
    "        x = self.conv8(x)\n",
    "        x = F.relu(self.bn8(x))\n",
    "        x = x.view(x.size(0),-1)\n",
    "        x = F.relu(self.dense1(x))\n",
    "        x = self.dropout(x)\n",
    "        x = self.dense2(x)\n",
    "        return x"
   ]
  },
  {
   "cell_type": "code",
   "execution_count": 15,
   "id": "83be8be8-06ed-4590-8302-db729faa1631",
   "metadata": {},
   "outputs": [
    {
     "name": "stdout",
     "output_type": "stream",
     "text": [
      "1-51433-A-17.wav\n"
     ]
    },
    {
     "data": {
      "image/png": "[encoded data removed]",
      "text/plain": [
       "<Figure size 432x288 with 1 Axes>"
      ]
     },
     "metadata": {
      "needs_background": "light"
     },
     "output_type": "display_data"
    }
   ],
   "source": [
    "filename = random.choice(os.listdir('audio/'))\n",
    "wav, sr = librosa.load('audio/'+filename, sr=None)\n",
    "librosa.display.waveshow(wav)\n",
    "print(filename)"
   ]
  },
  {
   "cell_type": "code",
   "execution_count": 16,
   "id": "6f253723-6319-4769-a5e8-0701272803a3",
   "metadata": {},
   "outputs": [
    {
     "name": "stdout",
     "output_type": "stream",
     "text": [
      "audio\t   iris.onnx  master.zip  pytest.ini  requirements.txt\twandb\n",
      "esc50.gif  LICENSE    meta\t  README.md   tests\n"
     ]
    }
   ],
   "source": [
    "!ls"
   ]
  },
  {
   "cell_type": "code",
   "execution_count": 17,
   "id": "8ebe0588-6157-4692-bb56-f0db7b821f2b",
   "metadata": {},
   "outputs": [
    {
     "data": {
      "text/plain": [
       "<matplotlib.collections.QuadMesh at 0x2b0249c080a0>"
      ]
     },
     "execution_count": 17,
     "metadata": {},
     "output_type": "execute_result"
    },
    {
     "data": {
      "image/png": "[encoded data removed]",
      "text/plain": [
       "<Figure size 432x288 with 1 Axes>"
      ]
     },
     "metadata": {},
     "output_type": "display_data"
    }
   ],
   "source": [
    "ROOT_PATH = 'audio/'\n",
    "filename = random.choice(os.listdir(ROOT_PATH))\n",
    "# filename = 'audio/1-101404-A-34.wav'\n",
    "# values = get_melspectrogram_db(filename)\n",
    "librosa.display.specshow(spec_to_image(get_melspectrogram_db(ROOT_PATH+filename)))"
   ]
  },
  {
   "cell_type": "code",
   "execution_count": 18,
   "id": "f8b08fa1-830f-47dd-9005-136274e196a0",
   "metadata": {},
   "outputs": [
    {
     "name": "stderr",
     "output_type": "stream",
     "text": [
      "<ipython-input-13-a00dabe2e41f>:12: TqdmDeprecationWarning: This function will be removed in tqdm==5.0.0\n",
      "Please use `tqdm.notebook.tqdm` instead of `tqdm.tqdm_notebook`\n",
      "  for ind in tqdm(range(len(df))):\n"
     ]
    },
    {
     "data": {
      "application/vnd.jupyter.widget-view+json": {
       "model_id": "c2dbaf137b194827b08f7b2467f1c98d",
       "version_major": 2,
       "version_minor": 0
      },
      "text/plain": [
       "  0%|          | 0/1600 [00:00<?, ?it/s]"
      ]
     },
     "metadata": {},
     "output_type": "display_data"
    }
   ],
   "source": [
    "train_data = ESC50Data('audio', train, 'filename', 'category')\n"
   ]
  },
  {
   "cell_type": "code",
   "execution_count": 19,
   "id": "299d13f7-c83f-48b6-a74b-7f159932c240",
   "metadata": {},
   "outputs": [
    {
     "name": "stderr",
     "output_type": "stream",
     "text": [
      "<ipython-input-13-a00dabe2e41f>:12: TqdmDeprecationWarning: This function will be removed in tqdm==5.0.0\n",
      "Please use `tqdm.notebook.tqdm` instead of `tqdm.tqdm_notebook`\n",
      "  for ind in tqdm(range(len(df))):\n"
     ]
    },
    {
     "data": {
      "application/vnd.jupyter.widget-view+json": {
       "model_id": "3fd31b643962498eae0959281b428a0f",
       "version_major": 2,
       "version_minor": 0
      },
      "text/plain": [
       "  0%|          | 0/400 [00:00<?, ?it/s]"
      ]
     },
     "metadata": {},
     "output_type": "display_data"
    }
   ],
   "source": [
    "valid_data = ESC50Data('audio', valid, 'filename', 'category')\n"
   ]
  },
  {
   "cell_type": "code",
   "execution_count": 20,
   "id": "e1440dbd-b627-4aa9-8590-543ec5bbf7ca",
   "metadata": {},
   "outputs": [],
   "source": [
    "train_loader = DataLoader(train_data, batch_size=16, shuffle=True)\n",
    "valid_loader = DataLoader(valid_data, batch_size=16, shuffle=True)"
   ]
  },
  {
   "cell_type": "code",
   "execution_count": 21,
   "id": "463baa1e-5597-4871-b369-00adba1cee7b",
   "metadata": {},
   "outputs": [],
   "source": [
    "if torch.cuda.is_available():\n",
    "    device=torch.device('cuda:0')\n",
    "else:\n",
    "    device=torch.device('cpu')"
   ]
  },
  {
   "cell_type": "code",
   "execution_count": 22,
   "id": "3006d7fd-3084-49d8-a86d-6eca5387ab15",
   "metadata": {},
   "outputs": [
    {
     "name": "stderr",
     "output_type": "stream",
     "text": [
      "Failed to detect the name of this notebook, you can set it manually with the WANDB_NOTEBOOK_NAME environment variable to enable code saving.\n",
      "\u001b[34m\u001b[1mwandb\u001b[0m: Currently logged in as: \u001b[33miammoy23\u001b[0m (\u001b[33msingh-aditya2\u001b[0m). Use \u001b[1m`wandb login --relogin`\u001b[0m to force relogin\n"
     ]
    },
    {
     "data": {
      "text/html": [
       "Tracking run with wandb version 0.15.0"
      ],
      "text/plain": [
       "<IPython.core.display.HTML object>"
      ]
     },
     "metadata": {},
     "output_type": "display_data"
    },
    {
     "data": {
      "text/html": [
       "Run data is saved locally in <code>/home/singh.aditya2/ESC-50-master/wandb/run-20230422_134148-heozpiia</code>"
      ],
      "text/plain": [
       "<IPython.core.display.HTML object>"
      ]
     },
     "metadata": {},
     "output_type": "display_data"
    },
    {
     "data": {
      "text/html": [
       "Syncing run <strong><a href='https://wandb.ai/singh-aditya2/uncategorized/runs/heozpiia' target=\"_blank\">devout-tree-4</a></strong> to <a href='https://wandb.ai/singh-aditya2/uncategorized' target=\"_blank\">Weights & Biases</a> (<a href='https://wandb.me/run' target=\"_blank\">docs</a>)<br/>"
      ],
      "text/plain": [
       "<IPython.core.display.HTML object>"
      ]
     },
     "metadata": {},
     "output_type": "display_data"
    },
    {
     "data": {
      "text/html": [
       " View project at <a href='https://wandb.ai/singh-aditya2/uncategorized' target=\"_blank\">https://wandb.ai/singh-aditya2/uncategorized</a>"
      ],
      "text/plain": [
       "<IPython.core.display.HTML object>"
      ]
     },
     "metadata": {},
     "output_type": "display_data"
    },
    {
     "data": {
      "text/html": [
       " View run at <a href='https://wandb.ai/singh-aditya2/uncategorized/runs/heozpiia' target=\"_blank\">https://wandb.ai/singh-aditya2/uncategorized/runs/heozpiia</a>"
      ],
      "text/plain": [
       "<IPython.core.display.HTML object>"
      ]
     },
     "metadata": {},
     "output_type": "display_data"
    },
    {
     "data": {
      "text/plain": [
       "[]"
      ]
     },
     "execution_count": 22,
     "metadata": {},
     "output_type": "execute_result"
    }
   ],
   "source": [
    "args = {\"dataset\" : 'ESC-50',\n",
    "    \"epochs\" : 100,\n",
    "    \"learning_rate\" : 2e-5,\n",
    "    \"optimizer\" : 'Adam',\n",
    "    \"loss_function\" : 'CrossEntropyLoss',\n",
    "    \"log_interval\": 10\n",
    "}\n",
    "wandb.init(config=args)\n",
    "model = ESC50Model(input_shape=(1,128,431), batch_size=16, num_cats=50).to(device)\n",
    "wandb.watch(model, log_freq=100)"
   ]
  },
  {
   "cell_type": "code",
   "execution_count": 23,
   "id": "b5a76138-78cc-409d-8fcd-0c0e9dda3e76",
   "metadata": {},
   "outputs": [
    {
     "name": "stdout",
     "output_type": "stream",
     "text": [
      "['/home/singh.aditya2/.local/lib/python3.8/site-packages/wandb']\n"
     ]
    }
   ],
   "source": [
    "import wandb\n",
    "print(wandb.__path__)"
   ]
  },
  {
   "cell_type": "code",
   "execution_count": 24,
   "id": "6ee35ea4-787b-429c-ac30-da1963821f45",
   "metadata": {},
   "outputs": [],
   "source": [
    "def setlr(optimizer, lr):\n",
    "    for param_group in optimizer.param_groups:\n",
    "        param_group['lr'] = lr\n",
    "    return optimizer"
   ]
  },
  {
   "cell_type": "code",
   "execution_count": 25,
   "id": "205ad741-efc1-4f91-8109-97914bf029d9",
   "metadata": {},
   "outputs": [],
   "source": [
    "loss_fn = nn.CrossEntropyLoss()\n",
    "learning_rate = 2e-5\n",
    "optimizer = optim.Adam(model.parameters(), lr=learning_rate)\n",
    "epochs = 100\n",
    "train_losses = []\n",
    "valid_losses = []"
   ]
  },
  {
   "cell_type": "code",
   "execution_count": 26,
   "id": "81fd9f7a-cc7c-4b9d-8c5b-81612a5f9ba1",
   "metadata": {},
   "outputs": [
    {
     "data": {
      "text/plain": [
       "10"
      ]
     },
     "execution_count": 26,
     "metadata": {},
     "output_type": "execute_result"
    }
   ],
   "source": [
    "args['log_interval']"
   ]
  },
  {
   "cell_type": "code",
   "execution_count": 27,
   "id": "cc331009-0e96-4686-9cf7-f9539a6e93c1",
   "metadata": {},
   "outputs": [],
   "source": [
    "acc = []\n",
    "losses = []\n",
    "wandb.watch(model, log_freq=100)\n",
    "def train(model, loss_fn, train_loader, valid_loader, epochs, optimizer, train_losses, valid_losses, lr_decay=None):\n",
    "    for epoch in tqdm(range(1,epochs+1)):\n",
    "        model.train()\n",
    "        batch_losses=[]\n",
    "        #if lr_decay:\n",
    "        #   optimizer = lr_decay(optimizer, epoch)\n",
    "        for i, data in enumerate(train_loader):\n",
    "            x, y = data\n",
    "            optimizer.zero_grad()\n",
    "            x = x.to(device, dtype=torch.float32)\n",
    "            y = y.to(device, dtype=torch.long)\n",
    "            y_hat = model(x)\n",
    "            loss = loss_fn(y_hat, y)\n",
    "            loss.backward()\n",
    "            batch_losses.append(loss.item())\n",
    "            optimizer.step()\n",
    "        wandb.log({\"loss_train_per_epoch\": loss})    \n",
    "        train_losses.append(batch_losses)\n",
    "        print(f'Epoch - {epoch} Train-Loss : {np.mean(train_losses[-1])}')\n",
    "        model.eval()\n",
    "        batch_losses=[]\n",
    "        trace_y = []\n",
    "        trace_yhat = []\n",
    "        for i, data in enumerate(valid_loader):\n",
    "            x, y = data\n",
    "            x = x.to(device, dtype=torch.float32)\n",
    "            y = y.to(device, dtype=torch.long)\n",
    "            y_hat = model(x)\n",
    "            loss_valid = loss_fn(y_hat, y)\n",
    "            trace_y.append(y.cpu().detach().numpy())\n",
    "            trace_yhat.append(y_hat.cpu().detach().numpy())      \n",
    "            batch_losses.append(loss_valid.item())\n",
    "        losses.append(np.mean(batch_losses))    \n",
    "        wandb.log({\"loss_valid_per_epoch\": loss_valid})\n",
    "        valid_losses.append(batch_losses)\n",
    "        trace_y = np.concatenate(trace_y)\n",
    "        trace_yhat = np.concatenate(trace_yhat)\n",
    "        accuracy = np.mean(trace_yhat.argmax(axis=1)==trace_y)\n",
    "        acc.append(accuracy)\n",
    "        wandb.log({\"accuracry_validation_per_epoch\": accuracy})\n",
    "        \n",
    "        print(f'Epoch - {epoch} Valid-Loss : {np.mean(valid_losses[-1])} Valid-Accuracy : {accuracy}')"
   ]
  },
  {
   "cell_type": "code",
   "execution_count": 28,
   "id": "fb7ba985-799d-461e-aed6-b61db0eb90b5",
   "metadata": {},
   "outputs": [
    {
     "name": "stderr",
     "output_type": "stream",
     "text": [
      "<ipython-input-27-9f94dd8caa4a>:5: TqdmDeprecationWarning: This function will be removed in tqdm==5.0.0\n",
      "Please use `tqdm.notebook.tqdm` instead of `tqdm.tqdm_notebook`\n",
      "  for epoch in tqdm(range(1,epochs+1)):\n"
     ]
    },
    {
     "data": {
      "application/vnd.jupyter.widget-view+json": {
       "model_id": "996239892cd8445b84d23a58475ec03d",
       "version_major": 2,
       "version_minor": 0
      },
      "text/plain": [
       "  0%|          | 0/100 [00:00<?, ?it/s]"
      ]
     },
     "metadata": {},
     "output_type": "display_data"
    },
    {
     "name": "stdout",
     "output_type": "stream",
     "text": [
      "Epoch - 1 Train-Loss : 3.826563465595245\n",
      "Epoch - 1 Valid-Loss : 3.412113447189331 Valid-Accuracy : 0.1575\n",
      "Epoch - 2 Train-Loss : 3.1492989683151245\n",
      "Epoch - 2 Valid-Loss : 2.9330127906799315 Valid-Accuracy : 0.2875\n",
      "Epoch - 3 Train-Loss : 2.585983568429947\n",
      "Epoch - 3 Valid-Loss : 2.617830629348755 Valid-Accuracy : 0.3475\n",
      "Epoch - 4 Train-Loss : 2.0687191772460936\n",
      "Epoch - 4 Valid-Loss : 2.35476083278656 Valid-Accuracy : 0.3975\n",
      "Epoch - 5 Train-Loss : 1.582648419737816\n",
      "Epoch - 5 Valid-Loss : 2.2300698137283326 Valid-Accuracy : 0.425\n",
      "Epoch - 6 Train-Loss : 1.2002872627973558\n",
      "Epoch - 6 Valid-Loss : 2.048915510177612 Valid-Accuracy : 0.48\n",
      "Epoch - 7 Train-Loss : 0.8845464935898781\n",
      "Epoch - 7 Valid-Loss : 1.9583227491378785 Valid-Accuracy : 0.4725\n",
      "Epoch - 8 Train-Loss : 0.725433429479599\n",
      "Epoch - 8 Valid-Loss : 1.8845681571960449 Valid-Accuracy : 0.5225\n",
      "Epoch - 9 Train-Loss : 0.5337695457041264\n",
      "Epoch - 9 Valid-Loss : 1.9165136480331422 Valid-Accuracy : 0.49\n",
      "Epoch - 10 Train-Loss : 0.40177878469228745\n",
      "Epoch - 10 Valid-Loss : 1.8775805044174194 Valid-Accuracy : 0.525\n",
      "Epoch - 11 Train-Loss : 0.31382131155580284\n",
      "Epoch - 11 Valid-Loss : 1.846020770072937 Valid-Accuracy : 0.5175\n",
      "Epoch - 12 Train-Loss : 0.2615811470150948\n",
      "Epoch - 12 Valid-Loss : 1.7766353511810302 Valid-Accuracy : 0.5225\n",
      "Epoch - 13 Train-Loss : 0.24529364824295044\n",
      "Epoch - 13 Valid-Loss : 1.81607825756073 Valid-Accuracy : 0.53\n",
      "Epoch - 14 Train-Loss : 0.176802323050797\n",
      "Epoch - 14 Valid-Loss : 1.726732771396637 Valid-Accuracy : 0.5325\n",
      "Epoch - 15 Train-Loss : 0.14266067782416939\n",
      "Epoch - 15 Valid-Loss : 1.7839322304725647 Valid-Accuracy : 0.5375\n",
      "Epoch - 16 Train-Loss : 0.12674176221713424\n",
      "Epoch - 16 Valid-Loss : 1.7663777899742126 Valid-Accuracy : 0.5325\n",
      "Epoch - 17 Train-Loss : 0.10890020748600364\n",
      "Epoch - 17 Valid-Loss : 1.7320771360397338 Valid-Accuracy : 0.515\n",
      "Epoch - 18 Train-Loss : 0.09595410209149122\n",
      "Epoch - 18 Valid-Loss : 1.7087283205986024 Valid-Accuracy : 0.5475\n",
      "Epoch - 19 Train-Loss : 0.09045106031000615\n",
      "Epoch - 19 Valid-Loss : 1.7489705848693848 Valid-Accuracy : 0.5375\n",
      "Epoch - 20 Train-Loss : 0.07221290040761233\n",
      "Epoch - 20 Valid-Loss : 1.7358327579498292 Valid-Accuracy : 0.5275\n",
      "Epoch - 21 Train-Loss : 0.06701230196282268\n",
      "Epoch - 21 Valid-Loss : 1.783028748035431 Valid-Accuracy : 0.5075\n",
      "Epoch - 22 Train-Loss : 0.06293827647343278\n",
      "Epoch - 22 Valid-Loss : 1.774100160598755 Valid-Accuracy : 0.52\n",
      "Epoch - 23 Train-Loss : 0.05515312295407057\n",
      "Epoch - 23 Valid-Loss : 1.7566170024871826 Valid-Accuracy : 0.5225\n",
      "Epoch - 24 Train-Loss : 0.0616145586874336\n",
      "Epoch - 24 Valid-Loss : 1.7404206442832946 Valid-Accuracy : 0.54\n",
      "Epoch - 25 Train-Loss : 0.040336283571086824\n",
      "Epoch - 25 Valid-Loss : 1.7361726474761963 Valid-Accuracy : 0.53\n",
      "Epoch - 26 Train-Loss : 0.04139620956382714\n",
      "Epoch - 26 Valid-Loss : 1.708814492225647 Valid-Accuracy : 0.5225\n",
      "Epoch - 27 Train-Loss : 0.03330362661741674\n",
      "Epoch - 27 Valid-Loss : 1.7280093336105347 Valid-Accuracy : 0.525\n",
      "Epoch - 28 Train-Loss : 0.038775795963592825\n",
      "Epoch - 28 Valid-Loss : 1.7189939522743225 Valid-Accuracy : 0.5325\n",
      "Epoch - 29 Train-Loss : 0.04258812277112156\n",
      "Epoch - 29 Valid-Loss : 1.8433784675598144 Valid-Accuracy : 0.5025\n",
      "Epoch - 30 Train-Loss : 0.03054300628602505\n",
      "Epoch - 30 Valid-Loss : 1.7378667736053466 Valid-Accuracy : 0.5475\n",
      "Epoch - 31 Train-Loss : 0.02626864255173132\n",
      "Epoch - 31 Valid-Loss : 1.7422547626495362 Valid-Accuracy : 0.52\n",
      "Epoch - 32 Train-Loss : 0.031081426127348096\n",
      "Epoch - 32 Valid-Loss : 1.7356239938735962 Valid-Accuracy : 0.54\n",
      "Epoch - 33 Train-Loss : 0.02099238065071404\n",
      "Epoch - 33 Valid-Loss : 1.7071405696868895 Valid-Accuracy : 0.52\n",
      "Epoch - 34 Train-Loss : 0.018998917436692863\n",
      "Epoch - 34 Valid-Loss : 1.7591462421417237 Valid-Accuracy : 0.5275\n",
      "Epoch - 35 Train-Loss : 0.020190615561441517\n",
      "Epoch - 35 Valid-Loss : 1.757182559967041 Valid-Accuracy : 0.535\n",
      "Epoch - 36 Train-Loss : 0.022870970093645155\n",
      "Epoch - 36 Valid-Loss : 1.769423677921295 Valid-Accuracy : 0.515\n",
      "Epoch - 37 Train-Loss : 0.026035353442421184\n",
      "Epoch - 37 Valid-Loss : 1.851305561065674 Valid-Accuracy : 0.525\n",
      "Epoch - 38 Train-Loss : 0.031694784837309274\n",
      "Epoch - 38 Valid-Loss : 1.7313692665100098 Valid-Accuracy : 0.5575\n",
      "Epoch - 39 Train-Loss : 0.01729934569215402\n",
      "Epoch - 39 Valid-Loss : 1.7788553524017334 Valid-Accuracy : 0.5325\n",
      "Epoch - 40 Train-Loss : 0.015041252603987232\n",
      "Epoch - 40 Valid-Loss : 1.9924899339675903 Valid-Accuracy : 0.4875\n",
      "Epoch - 41 Train-Loss : 0.028039951778482647\n",
      "Epoch - 41 Valid-Loss : 1.7472920966148378 Valid-Accuracy : 0.525\n",
      "Epoch - 42 Train-Loss : 0.01510920305037871\n",
      "Epoch - 42 Valid-Loss : 1.7484771013259888 Valid-Accuracy : 0.54\n",
      "Epoch - 43 Train-Loss : 0.016904530128231274\n",
      "Epoch - 43 Valid-Loss : 1.7814435601234435 Valid-Accuracy : 0.5275\n",
      "Epoch - 44 Train-Loss : 0.013199035486904905\n",
      "Epoch - 44 Valid-Loss : 1.805827078819275 Valid-Accuracy : 0.5325\n",
      "Epoch - 45 Train-Loss : 0.016297826023073867\n",
      "Epoch - 45 Valid-Loss : 1.831076066493988 Valid-Accuracy : 0.53\n",
      "Epoch - 46 Train-Loss : 0.018495882431743667\n",
      "Epoch - 46 Valid-Loss : 1.9028824853897095 Valid-Accuracy : 0.5175\n",
      "Epoch - 47 Train-Loss : 0.013628888771636411\n",
      "Epoch - 47 Valid-Loss : 1.9910702800750733 Valid-Accuracy : 0.4875\n",
      "Epoch - 48 Train-Loss : 0.02504556934873108\n",
      "Epoch - 48 Valid-Loss : 1.9903664302825927 Valid-Accuracy : 0.5175\n",
      "Epoch - 49 Train-Loss : 0.026652248642640188\n",
      "Epoch - 49 Valid-Loss : 1.830441107749939 Valid-Accuracy : 0.525\n",
      "Epoch - 50 Train-Loss : 0.030094397636130452\n",
      "Epoch - 50 Valid-Loss : 1.9330171489715575 Valid-Accuracy : 0.51\n",
      "Epoch - 51 Train-Loss : 0.021559168435051106\n",
      "Epoch - 51 Valid-Loss : 1.951707730293274 Valid-Accuracy : 0.5375\n",
      "Epoch - 52 Train-Loss : 0.01972672179574147\n",
      "Epoch - 52 Valid-Loss : 1.9215906262397766 Valid-Accuracy : 0.5225\n",
      "Epoch - 53 Train-Loss : 0.021202365005738102\n",
      "Epoch - 53 Valid-Loss : 1.8896952438354493 Valid-Accuracy : 0.515\n",
      "Epoch - 54 Train-Loss : 0.02092640590504743\n",
      "Epoch - 54 Valid-Loss : 1.8333965015411378 Valid-Accuracy : 0.5425\n",
      "Epoch - 55 Train-Loss : 0.00991936635269667\n",
      "Epoch - 55 Valid-Loss : 1.8291228413581848 Valid-Accuracy : 0.5375\n",
      "Epoch - 56 Train-Loss : 0.006584680729138199\n",
      "Epoch - 56 Valid-Loss : 1.8330054044723512 Valid-Accuracy : 0.5375\n",
      "Epoch - 57 Train-Loss : 0.00821642397728283\n",
      "Epoch - 57 Valid-Loss : 1.8786648058891295 Valid-Accuracy : 0.5375\n",
      "Epoch - 58 Train-Loss : 0.02221450982731767\n",
      "Epoch - 58 Valid-Loss : 2.080691499710083 Valid-Accuracy : 0.485\n",
      "Epoch - 59 Train-Loss : 0.0129415613389574\n",
      "Epoch - 59 Valid-Loss : 1.9837018394470214 Valid-Accuracy : 0.51\n",
      "Epoch - 60 Train-Loss : 0.025679331232677214\n",
      "Epoch - 60 Valid-Loss : 2.064723038673401 Valid-Accuracy : 0.4775\n",
      "Epoch - 61 Train-Loss : 0.013745732940151356\n",
      "Epoch - 61 Valid-Loss : 1.8972663855552674 Valid-Accuracy : 0.5475\n",
      "Epoch - 62 Train-Loss : 0.013052736548997928\n",
      "Epoch - 62 Valid-Loss : 1.9124043989181518 Valid-Accuracy : 0.535\n",
      "Epoch - 63 Train-Loss : 0.003907896674354561\n",
      "Epoch - 63 Valid-Loss : 1.932143383026123 Valid-Accuracy : 0.5075\n",
      "Epoch - 64 Train-Loss : 0.03147478630184196\n",
      "Epoch - 64 Valid-Loss : 2.309217834472656 Valid-Accuracy : 0.47\n",
      "Epoch - 65 Train-Loss : 0.02387108640978113\n",
      "Epoch - 65 Valid-Loss : 2.0532884621620178 Valid-Accuracy : 0.515\n",
      "Epoch - 66 Train-Loss : 0.04848906849976629\n",
      "Epoch - 66 Valid-Loss : 1.9916601467132569 Valid-Accuracy : 0.5125\n",
      "Epoch - 67 Train-Loss : 0.020296558497357182\n",
      "Epoch - 67 Valid-Loss : 1.8424301385879516 Valid-Accuracy : 0.5425\n",
      "Epoch - 68 Train-Loss : 0.006220410675596213\n",
      "Epoch - 68 Valid-Loss : 1.926865472793579 Valid-Accuracy : 0.54\n",
      "Epoch - 69 Train-Loss : 0.010386338104435709\n",
      "Epoch - 69 Valid-Loss : 2.0605082368850707 Valid-Accuracy : 0.505\n",
      "Epoch - 70 Train-Loss : 0.008813116511446424\n",
      "Epoch - 70 Valid-Loss : 1.7957012915611268 Valid-Accuracy : 0.545\n",
      "Epoch - 71 Train-Loss : 0.003400407618173631\n",
      "Epoch - 71 Valid-Loss : 1.9289533185958863 Valid-Accuracy : 0.53\n",
      "Epoch - 72 Train-Loss : 0.01074104419676587\n",
      "Epoch - 72 Valid-Loss : 1.97224134683609 Valid-Accuracy : 0.525\n",
      "Epoch - 73 Train-Loss : 0.0034372128159884598\n",
      "Epoch - 73 Valid-Loss : 1.8704768872261048 Valid-Accuracy : 0.535\n",
      "Epoch - 74 Train-Loss : 0.004435828759451397\n",
      "Epoch - 74 Valid-Loss : 1.8612596106529236 Valid-Accuracy : 0.535\n",
      "Epoch - 75 Train-Loss : 0.0038844185975176514\n",
      "Epoch - 75 Valid-Loss : 1.9760793781280517 Valid-Accuracy : 0.5375\n",
      "Epoch - 76 Train-Loss : 0.004083632443944225\n",
      "Epoch - 76 Valid-Loss : 2.060583436489105 Valid-Accuracy : 0.5225\n",
      "Epoch - 77 Train-Loss : 0.004483653607967426\n",
      "Epoch - 77 Valid-Loss : 1.8755372118949891 Valid-Accuracy : 0.54\n",
      "Epoch - 78 Train-Loss : 0.003569273787034035\n",
      "Epoch - 78 Valid-Loss : 1.8059985065460205 Valid-Accuracy : 0.545\n",
      "Epoch - 79 Train-Loss : 0.006226505673548672\n",
      "Epoch - 79 Valid-Loss : 2.002311038970947 Valid-Accuracy : 0.5325\n",
      "Epoch - 80 Train-Loss : 0.0062154974474105985\n",
      "Epoch - 80 Valid-Loss : 2.056563379764557 Valid-Accuracy : 0.51\n",
      "Epoch - 81 Train-Loss : 0.0040012053633108734\n",
      "Epoch - 81 Valid-Loss : 1.9018227100372314 Valid-Accuracy : 0.54\n",
      "Epoch - 82 Train-Loss : 0.001664715164442896\n",
      "Epoch - 82 Valid-Loss : 1.8717747950553894 Valid-Accuracy : 0.5375\n",
      "Epoch - 83 Train-Loss : 0.0234389201040176\n",
      "Epoch - 83 Valid-Loss : 2.6601263523101806 Valid-Accuracy : 0.4\n",
      "Epoch - 84 Train-Loss : 0.10667880122491624\n",
      "Epoch - 84 Valid-Loss : 2.6242404127120973 Valid-Accuracy : 0.4375\n",
      "Epoch - 85 Train-Loss : 0.05945570588577539\n",
      "Epoch - 85 Valid-Loss : 2.3324220609664916 Valid-Accuracy : 0.4725\n",
      "Epoch - 86 Train-Loss : 0.0374775479757227\n",
      "Epoch - 86 Valid-Loss : 2.1646503019332886 Valid-Accuracy : 0.49\n",
      "Epoch - 87 Train-Loss : 0.014905402539588976\n",
      "Epoch - 87 Valid-Loss : 2.096237244606018 Valid-Accuracy : 0.5\n",
      "Epoch - 88 Train-Loss : 0.006752170957624913\n",
      "Epoch - 88 Valid-Loss : 2.0111861181259156 Valid-Accuracy : 0.535\n",
      "Epoch - 89 Train-Loss : 0.004819440144055989\n",
      "Epoch - 89 Valid-Loss : 2.0263267588615417 Valid-Accuracy : 0.525\n",
      "Epoch - 90 Train-Loss : 0.007594493190117646\n",
      "Epoch - 90 Valid-Loss : 2.0309677600860594 Valid-Accuracy : 0.52\n",
      "Epoch - 91 Train-Loss : 0.005973765958697186\n",
      "Epoch - 91 Valid-Loss : 2.071761155128479 Valid-Accuracy : 0.5025\n",
      "Epoch - 92 Train-Loss : 0.00424251623408054\n",
      "Epoch - 92 Valid-Loss : 1.926727089881897 Valid-Accuracy : 0.5375\n",
      "Epoch - 93 Train-Loss : 0.0036270601885553333\n",
      "Epoch - 93 Valid-Loss : 2.1654698097705842 Valid-Accuracy : 0.52\n",
      "Epoch - 94 Train-Loss : 0.005236941349903645\n",
      "Epoch - 94 Valid-Loss : 2.147686438560486 Valid-Accuracy : 0.5\n",
      "Epoch - 95 Train-Loss : 0.0024037781119477584\n",
      "Epoch - 95 Valid-Loss : 2.018256618976593 Valid-Accuracy : 0.55\n",
      "Epoch - 96 Train-Loss : 0.0022018711419877946\n",
      "Epoch - 96 Valid-Loss : 2.259884166717529 Valid-Accuracy : 0.525\n",
      "Epoch - 97 Train-Loss : 0.008234515736985486\n",
      "Epoch - 97 Valid-Loss : 2.134001305103302 Valid-Accuracy : 0.5225\n",
      "Epoch - 98 Train-Loss : 0.007963503334613051\n",
      "Epoch - 98 Valid-Loss : 2.1394876885414122 Valid-Accuracy : 0.5125\n",
      "Epoch - 99 Train-Loss : 0.011948189725881093\n",
      "Epoch - 99 Valid-Loss : 1.9864518070220947 Valid-Accuracy : 0.5325\n",
      "Epoch - 100 Train-Loss : 0.02183441290690098\n",
      "Epoch - 100 Valid-Loss : 2.1951923894882204 Valid-Accuracy : 0.505\n"
     ]
    }
   ],
   "source": [
    "train(model, loss_fn, train_loader, valid_loader, epochs, optimizer, train_losses, valid_losses)"
   ]
  },
  {
   "cell_type": "code",
   "execution_count": 40,
   "id": "5c4858c0-1d11-4a6d-acae-3f127362e430",
   "metadata": {},
   "outputs": [
    {
     "data": {
      "text/plain": [
       "100"
      ]
     },
     "execution_count": 40,
     "metadata": {},
     "output_type": "execute_result"
    }
   ],
   "source": [
    "len(acc)"
   ]
  },
  {
   "cell_type": "code",
   "execution_count": 41,
   "id": "f21f6a6d-44ee-41cf-80e7-5d3a74d7a5a7",
   "metadata": {},
   "outputs": [
    {
     "data": {
      "text/plain": [
       "[0.1575,\n",
       " 0.2875,\n",
       " 0.3475,\n",
       " 0.3975,\n",
       " 0.425,\n",
       " 0.48,\n",
       " 0.4725,\n",
       " 0.5225,\n",
       " 0.49,\n",
       " 0.525,\n",
       " 0.5175,\n",
       " 0.5225,\n",
       " 0.53,\n",
       " 0.5325,\n",
       " 0.5375,\n",
       " 0.5325,\n",
       " 0.515,\n",
       " 0.5475,\n",
       " 0.5375,\n",
       " 0.5275,\n",
       " 0.5075,\n",
       " 0.52,\n",
       " 0.5225,\n",
       " 0.54,\n",
       " 0.53,\n",
       " 0.5225,\n",
       " 0.525,\n",
       " 0.5325,\n",
       " 0.5025,\n",
       " 0.5475,\n",
       " 0.52,\n",
       " 0.54,\n",
       " 0.52,\n",
       " 0.5275,\n",
       " 0.535,\n",
       " 0.515,\n",
       " 0.525,\n",
       " 0.5575,\n",
       " 0.5325,\n",
       " 0.4875,\n",
       " 0.525,\n",
       " 0.54,\n",
       " 0.5275,\n",
       " 0.5325,\n",
       " 0.53,\n",
       " 0.5175,\n",
       " 0.4875,\n",
       " 0.5175,\n",
       " 0.525,\n",
       " 0.51,\n",
       " 0.5375,\n",
       " 0.5225,\n",
       " 0.515,\n",
       " 0.5425,\n",
       " 0.5375,\n",
       " 0.5375,\n",
       " 0.5375,\n",
       " 0.485,\n",
       " 0.51,\n",
       " 0.4775,\n",
       " 0.5475,\n",
       " 0.535,\n",
       " 0.5075,\n",
       " 0.47,\n",
       " 0.515,\n",
       " 0.5125,\n",
       " 0.5425,\n",
       " 0.54,\n",
       " 0.505,\n",
       " 0.545,\n",
       " 0.53,\n",
       " 0.525,\n",
       " 0.535,\n",
       " 0.535,\n",
       " 0.5375,\n",
       " 0.5225,\n",
       " 0.54,\n",
       " 0.545,\n",
       " 0.5325,\n",
       " 0.51,\n",
       " 0.54,\n",
       " 0.5375,\n",
       " 0.4,\n",
       " 0.4375,\n",
       " 0.4725,\n",
       " 0.49,\n",
       " 0.5,\n",
       " 0.535,\n",
       " 0.525,\n",
       " 0.52,\n",
       " 0.5025,\n",
       " 0.5375,\n",
       " 0.52,\n",
       " 0.5,\n",
       " 0.55,\n",
       " 0.525,\n",
       " 0.5225,\n",
       " 0.5125,\n",
       " 0.5325,\n",
       " 0.505]"
      ]
     },
     "execution_count": 41,
     "metadata": {},
     "output_type": "execute_result"
    }
   ],
   "source": [
    "acc"
   ]
  },
  {
   "cell_type": "code",
   "execution_count": 43,
   "id": "f4958c64-9f9c-43a9-99ec-0ab49aac8733",
   "metadata": {},
   "outputs": [
    {
     "data": {
      "text/plain": [
       "100"
      ]
     },
     "execution_count": 43,
     "metadata": {},
     "output_type": "execute_result"
    }
   ],
   "source": [
    "len(valid_losses)"
   ]
  },
  {
   "cell_type": "code",
   "execution_count": 44,
   "id": "991221aa-299d-4c53-92fb-9abff480a045",
   "metadata": {},
   "outputs": [
    {
     "data": {
      "text/plain": [
       "100"
      ]
     },
     "execution_count": 44,
     "metadata": {},
     "output_type": "execute_result"
    }
   ],
   "source": [
    "len(train_losses)"
   ]
  },
  {
   "cell_type": "code",
   "execution_count": 30,
   "id": "4db2a861-446d-4102-92d6-d65b0dc58c95",
   "metadata": {},
   "outputs": [
    {
     "data": {
      "text/plain": [
       "<matplotlib.legend.Legend at 0x2b024bf87220>"
      ]
     },
     "execution_count": 30,
     "metadata": {},
     "output_type": "execute_result"
    },
    {
     "data": {
      "image/png": "[encoded data removed]",
      "text/plain": [
       "<Figure size 864x432 with 2 Axes>"
      ]
     },
     "metadata": {
      "needs_background": "light"
     },
     "output_type": "display_data"
    }
   ],
   "source": [
    "tl = np.asarray(train_losses).ravel()\n",
    "vl = np.asarray(valid_losses).ravel()\n",
    "plt.figure(figsize=(12,6))\n",
    "plt.subplot(1,2,1)\n",
    "plt.plot(tl)\n",
    "plt.legend(['Train Loss'])\n",
    "plt.subplot(1,2,2)\n",
    "plt.plot(vl,'orange')\n",
    "plt.legend(['Valid Loss'])"
   ]
  },
  {
   "cell_type": "code",
   "execution_count": 98,
   "id": "76fa7195-cfd2-4a13-a4cc-39eaf2424723",
   "metadata": {},
   "outputs": [
    {
     "data": {
      "text/plain": [
       "<matplotlib.legend.Legend at 0x2b025f141850>"
      ]
     },
     "execution_count": 98,
     "metadata": {},
     "output_type": "execute_result"
    },
    {
     "data": {
      "image/png": "[encoded data removed]",
      "text/plain": [
       "<Figure size 1080x432 with 2 Axes>"
      ]
     },
     "metadata": {
      "needs_background": "light"
     },
     "output_type": "display_data"
    }
   ],
   "source": [
    "tl = np.asarray(train_losses_)\n",
    "vl = np.asarray(valid_losses_)\n",
    "plt.figure(figsize=(15,6))\n",
    "plt.subplot(1,2,1)\n",
    "plt.plot(tl)\n",
    "plt.legend(['Train Loss'])\n",
    "plt.subplot(1,2,2)\n",
    "plt.plot(vl,'orange')\n",
    "plt.legend(['Valid Loss'])"
   ]
  },
  {
   "cell_type": "code",
   "execution_count": 99,
   "id": "26854d09-3c09-4e79-ba28-028c057018ed",
   "metadata": {},
   "outputs": [
    {
     "data": {
      "text/plain": [
       "[<matplotlib.lines.Line2D at 0x2b025d095ee0>]"
      ]
     },
     "execution_count": 99,
     "metadata": {},
     "output_type": "execute_result"
    },
    {
     "data": {
      "image/png": "[encoded data removed]",
      "text/plain": [
       "<Figure size 1080x432 with 1 Axes>"
      ]
     },
     "metadata": {
      "needs_background": "light"
     },
     "output_type": "display_data"
    }
   ],
   "source": [
    "plt.figure(figsize=(15,6))\n",
    "plt.plot(np.asarray(acc))"
   ]
  },
  {
   "cell_type": "code",
   "execution_count": 31,
   "id": "65fc8466-9bfe-407b-a77b-8710f8f86ce3",
   "metadata": {},
   "outputs": [
    {
     "name": "stdout",
     "output_type": "stream",
     "text": [
      "1-67033-A-37.wav\n"
     ]
    }
   ],
   "source": [
    "file_path = random.choice(os.listdir('audio/'))\n",
    "print(file_path)\n",
    "sample_input = spec_to_image(get_melspectrogram_db('audio/'+file_path))[np.newaxis,...]"
   ]
  },
  {
   "cell_type": "code",
   "execution_count": 32,
   "id": "15c1b0ac-7735-4ac9-9e5e-47b1a7a818a7",
   "metadata": {},
   "outputs": [],
   "source": [
    "sample_input\n",
    "sample_input = torch.from_numpy(sample_input)\n",
    "sample_input = sample_input.to(device, dtype=torch.float32)"
   ]
  },
  {
   "cell_type": "code",
   "execution_count": 33,
   "id": "1f6b67d7-5d5a-47a8-a6de-e7e1c0f1022a",
   "metadata": {},
   "outputs": [
    {
     "data": {
      "text/plain": [
       "torch.Size([1, 128, 431])"
      ]
     },
     "execution_count": 33,
     "metadata": {},
     "output_type": "execute_result"
    }
   ],
   "source": [
    "sample_input.shape"
   ]
  },
  {
   "cell_type": "code",
   "execution_count": null,
   "id": "d3f66e9b-468d-4c5a-bc4b-9a95bcad5ae3",
   "metadata": {},
   "outputs": [],
   "source": [
    "torch.onnx.export(model, sample_input[np.newaxis,...], 'CNN_Scratch.onnx', input_names=[\"spectogram\"], output_names=[\"logits\"])"
   ]
  },
  {
   "cell_type": "code",
   "execution_count": 45,
   "id": "d2779c26-fb8f-47e3-8e1b-b898a1083d7d",
   "metadata": {},
   "outputs": [
    {
     "name": "stdout",
     "output_type": "stream",
     "text": [
      "Accuracy.txt  esc50.gif   meta\t      requirements.txt\tTrain_loss.txt\n",
      "audio\t      LICENSE\t  pytest.ini  Test_loss.txt\twandb\n",
      "CNN.onnx      master.zip  README.md   tests\n"
     ]
    }
   ],
   "source": [
    "!ls\n"
   ]
  },
  {
   "cell_type": "code",
   "execution_count": null,
   "id": "f27e0bd9-f80b-439c-bc35-007209cacf7b",
   "metadata": {},
   "outputs": [],
   "source": [
    "file = open('Accuracy.txt','w')\n",
    "for item in acc:\n",
    "    file.write(item+\",\")\n",
    "file.close()\n"
   ]
  },
  {
   "cell_type": "code",
   "execution_count": 36,
   "id": "a8fb2d95-e106-4ff5-8cd7-8f27ce6365df",
   "metadata": {},
   "outputs": [
    {
     "name": "stdout",
     "output_type": "stream",
     "text": [
      "Defaulting to user installation because normal site-packages is not writeable\n",
      "Collecting onnx\n",
      "  Downloading onnx-1.13.1-cp38-cp38-manylinux_2_17_x86_64.manylinux2014_x86_64.whl (13.5 MB)\n",
      "\u001b[K     |████████████████████████████████| 13.5 MB 10.6 MB/s eta 0:00:01\n",
      "\u001b[?25hRequirement already satisfied: typing-extensions>=3.6.2.1 in /home/singh.aditya2/.local/lib/python3.8/site-packages (from onnx) (4.5.0)\n",
      "Collecting protobuf<4,>=3.20.2\n",
      "  Downloading protobuf-3.20.3-cp38-cp38-manylinux_2_5_x86_64.manylinux1_x86_64.whl (1.0 MB)\n",
      "\u001b[K     |████████████████████████████████| 1.0 MB 92.5 MB/s eta 0:00:01\n",
      "\u001b[?25hRequirement already satisfied: numpy>=1.16.6 in /home/singh.aditya2/.local/lib/python3.8/site-packages (from onnx) (1.22.4)\n",
      "Installing collected packages: protobuf, onnx\n",
      "  Attempting uninstall: protobuf\n",
      "    Found existing installation: protobuf 4.22.3\n",
      "    Uninstalling protobuf-4.22.3:\n",
      "      Successfully uninstalled protobuf-4.22.3\n",
      "\u001b[31mERROR: Could not install packages due to an OSError: [Errno 16] Device or resource busy: '.nfs000000094d82c47c00012104'\n",
      "\u001b[0m\n"
     ]
    }
   ],
   "source": [
    "!pip install onnx"
   ]
  },
  {
   "cell_type": "code",
   "execution_count": 52,
   "id": "2c3ce3c6-d0d2-4f5f-b1e4-1c5bc56453a9",
   "metadata": {},
   "outputs": [],
   "source": [
    "import math"
   ]
  },
  {
   "cell_type": "code",
   "execution_count": 56,
   "id": "2c1db63e-aa01-4ac9-ba29-484e48ea227e",
   "metadata": {},
   "outputs": [],
   "source": [
    "v_loss= np.asarray(valid_losses)"
   ]
  },
  {
   "cell_type": "code",
   "execution_count": 82,
   "id": "1ed9ced0-6832-4fa4-8f09-7f7dba36cb04",
   "metadata": {},
   "outputs": [],
   "source": [
    "train_loss= np.asarray(train_losses)"
   ]
  },
  {
   "cell_type": "code",
   "execution_count": 83,
   "id": "30050645-2e40-416e-8e35-bdb1de11c1f4",
   "metadata": {},
   "outputs": [
    {
     "data": {
      "text/plain": [
       "(100, 100)"
      ]
     },
     "execution_count": 83,
     "metadata": {},
     "output_type": "execute_result"
    }
   ],
   "source": [
    "train_loss.shape"
   ]
  },
  {
   "cell_type": "code",
   "execution_count": 67,
   "id": "f650d5c6-3ba3-4998-a281-772310040e5b",
   "metadata": {},
   "outputs": [],
   "source": [
    "mean = []\n",
    "m,n = v_loss.shape"
   ]
  },
  {
   "cell_type": "code",
   "execution_count": 68,
   "id": "c70060ac-9b76-4fde-8bf6-3a3bc7403516",
   "metadata": {},
   "outputs": [
    {
     "data": {
      "text/plain": [
       "100"
      ]
     },
     "execution_count": 68,
     "metadata": {},
     "output_type": "execute_result"
    }
   ],
   "source": [
    "m"
   ]
  },
  {
   "cell_type": "code",
   "execution_count": 69,
   "id": "7d11acca-fdd6-4b99-9be6-46be6766e16f",
   "metadata": {},
   "outputs": [
    {
     "data": {
      "text/plain": [
       "25"
      ]
     },
     "execution_count": 69,
     "metadata": {},
     "output_type": "execute_result"
    }
   ],
   "source": [
    "n"
   ]
  },
  {
   "cell_type": "code",
   "execution_count": 73,
   "id": "082655e3-828e-43d1-a09e-33740279efd8",
   "metadata": {},
   "outputs": [
    {
     "data": {
      "text/plain": [
       "array([3.45684004, 3.52743888, 3.33300686, 3.81439114, 3.46138811,\n",
       "       3.32959414, 3.59397173, 3.20434403, 3.16628766, 3.27279711,\n",
       "       3.12116289, 3.35783577, 3.47498989, 3.33141375, 3.48793268,\n",
       "       3.30359817, 3.41364408, 3.49945641, 3.38563871, 3.42124081,\n",
       "       3.39190245, 3.49173594, 3.36263871, 3.74110317, 3.35848308])"
      ]
     },
     "execution_count": 73,
     "metadata": {},
     "output_type": "execute_result"
    }
   ],
   "source": [
    "v_loss[0]"
   ]
  },
  {
   "cell_type": "code",
   "execution_count": 86,
   "id": "baf8e0b2-3211-47bd-9e68-53766185f8f4",
   "metadata": {},
   "outputs": [],
   "source": [
    "valid_losses_ = []\n",
    "for i in range(100):\n",
    "    valid_losses_.append(np.mean(v_loss[i]))"
   ]
  },
  {
   "cell_type": "code",
   "execution_count": 91,
   "id": "dd93426b-5a0f-4833-83cc-3a96963f561b",
   "metadata": {},
   "outputs": [],
   "source": [
    "train_losses_ = []\n",
    "for i in range(100):\n",
    "    train_losses_.append(np.mean(train_loss[i]))"
   ]
  },
  {
   "cell_type": "code",
   "execution_count": 92,
   "id": "5bae55ff-da7d-477c-b414-96a4599917ac",
   "metadata": {},
   "outputs": [
    {
     "data": {
      "text/plain": [
       "(100,)"
      ]
     },
     "execution_count": 92,
     "metadata": {},
     "output_type": "execute_result"
    }
   ],
   "source": [
    "np.asarray(valid_losses_).shape"
   ]
  },
  {
   "cell_type": "code",
   "execution_count": 93,
   "id": "b63e5fde-0b55-458f-ba13-cb57930c4e9b",
   "metadata": {},
   "outputs": [
    {
     "data": {
      "text/plain": [
       "(100,)"
      ]
     },
     "execution_count": 93,
     "metadata": {},
     "output_type": "execute_result"
    }
   ],
   "source": [
    "np.asarray(train_losses_).shape"
   ]
  },
  {
   "cell_type": "code",
   "execution_count": null,
   "id": "95d843d2-3939-46c1-9072-2aacb09b6849",
   "metadata": {},
   "outputs": [],
   "source": []
  }
 ],
 "metadata": {
  "kernelspec": {
   "display_name": "Python 3",
   "language": "python",
   "name": "python3"
  },
  "language_info": {
   "codemirror_mode": {
    "name": "ipython",
    "version": 3
   },
   "file_extension": ".py",
   "mimetype": "text/x-python",
   "name": "python",
   "nbconvert_exporter": "python",
   "pygments_lexer": "ipython3",
   "version": "3.8.8"
  }
 },
 "nbformat": 4,
 "nbformat_minor": 5
}
